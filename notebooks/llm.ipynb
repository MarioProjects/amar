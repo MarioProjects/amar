{
 "cells": [
  {
   "cell_type": "code",
   "execution_count": 1,
   "metadata": {},
   "outputs": [],
   "source": [
    "from src.llm.ollama import OllamaLLM"
   ]
  },
  {
   "cell_type": "code",
   "execution_count": 23,
   "metadata": {},
   "outputs": [],
   "source": [
    "VERBOSE = True\n",
    "EMBEDDING_MODEL = \"qwen:0.5b\"\n",
    "OLLAMA_SERVER = \"http://localhost:11434\""
   ]
  },
  {
   "cell_type": "code",
   "execution_count": 24,
   "metadata": {},
   "outputs": [
    {
     "name": "stdout",
     "output_type": "stream",
     "text": [
      "Model qwen:0.5b is already available.\n"
     ]
    }
   ],
   "source": [
    "llm = OllamaLLM(model=EMBEDDING_MODEL, base_url=OLLAMA_SERVER)"
   ]
  },
  {
   "cell_type": "code",
   "execution_count": 25,
   "metadata": {},
   "outputs": [
    {
     "name": "stdout",
     "output_type": "stream",
     "text": [
      "Response for 'Is the sky blue?': Yes, the sky is typically blue due to the scattering of sunlight by the Earth's atmosphere. The shade of blue varies depending on the location and time of year.\n",
      "\n"
     ]
    }
   ],
   "source": [
    "query = \"Is the sky blue?\"\n",
    "response = llm.ask(query)\n",
    "print(f\"Response for '{query}': {response}\")"
   ]
  }
 ],
 "metadata": {
  "kernelspec": {
   "display_name": "ama-dev",
   "language": "python",
   "name": "python3"
  },
  "language_info": {
   "codemirror_mode": {
    "name": "ipython",
    "version": 3
   },
   "file_extension": ".py",
   "mimetype": "text/x-python",
   "name": "python",
   "nbconvert_exporter": "python",
   "pygments_lexer": "ipython3",
   "version": "3.12.3"
  }
 },
 "nbformat": 4,
 "nbformat_minor": 2
}
